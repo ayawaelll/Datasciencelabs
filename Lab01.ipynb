{
 "cells": [
  {
   "cell_type": "code",
   "execution_count": 2,
   "id": "6ae1dfd4",
   "metadata": {},
   "outputs": [],
   "source": [
    "students = {}"
   ]
  },
  {
   "cell_type": "code",
   "execution_count": 5,
   "id": "f5591f49",
   "metadata": {},
   "outputs": [],
   "source": [
    "while True:\n",
    "    name = input(\"Enter student name (or 'q' to quit): \")\n",
    "    if name == 'q':\n",
    "        break\n",
    "    student_id = input(\"Enter student ID: \")\n",
    "\n",
    "    students[name] = student_id"
   ]
  },
  {
   "cell_type": "code",
   "execution_count": null,
   "id": "c2637aa9",
   "metadata": {},
   "outputs": [
    {
     "name": "stdout",
     "output_type": "stream",
     "text": [
      "\n",
      "Entered student names and IDs:\n",
      "Name: Aya, ID: 1\n",
      "Name: Farah, ID: 2\n",
      "Name: Jana, ID: 3\n"
     ]
    }
   ],
   "source": [
    "print(\"\\nEntered student names and IDs:\")\n",
    "for name, student_id in students.items():\n",
    "    print(f\"Name: {name}, ID: {student_id}\")"
   ]
  },
  {
   "cell_type": "code",
   "execution_count": 4,
   "id": "dd79ee90",
   "metadata": {},
   "outputs": [],
   "source": [
    "#Doha's Part\n",
    "for name in students:\n",
    "    if name == 'Aya':\n",
    "        print(\"We found her!\")\n",
    "    "
   ]
  }
 ],
 "metadata": {
  "kernelspec": {
   "display_name": "Python 3 (ipykernel)",
   "language": "python",
   "name": "python3"
  },
  "language_info": {
   "codemirror_mode": {
    "name": "ipython",
    "version": 3
   },
   "file_extension": ".py",
   "mimetype": "text/x-python",
   "name": "python",
   "nbconvert_exporter": "python",
   "pygments_lexer": "ipython3",
   "version": "3.9.5"
  }
 },
 "nbformat": 4,
 "nbformat_minor": 5
}
